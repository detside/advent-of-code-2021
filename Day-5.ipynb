{
 "cells": [
  {
   "cell_type": "code",
   "execution_count": 5,
   "metadata": {},
   "outputs": [
    {
     "name": "stdout",
     "output_type": "stream",
     "text": [
      "18423\n"
     ]
    }
   ],
   "source": [
    "file_name = 'Day-5.txt'\n",
    "vents_file = open(file_name,\"r\")\n",
    "vents_input = []\n",
    "for line in vents_file:\n",
    "    new_entry = line.strip()\n",
    "    # print(new_entry)\n",
    "    temp_vents_positions = {}\n",
    "    current_position = new_entry.split(\" -> \")\n",
    "    temp_vents_positions[\"x1\"] = int(current_position[0].split(\",\")[0])\n",
    "    temp_vents_positions[\"y1\"] = int(current_position[0].split(\",\")[1])\n",
    "    temp_vents_positions[\"x2\"] = int(current_position[1].split(\",\")[0])\n",
    "    temp_vents_positions[\"y2\"] = int(current_position[1].split(\",\")[1])\n",
    "    vents_input.append(temp_vents_positions)\n",
    "\n",
    "vents_file.close()\n",
    "\n",
    "\n",
    "# part 1\n",
    "map_size = 1000\n",
    "\n",
    "vents_map = { (i,j):0 for i in range(map_size) for j in range(map_size) }\n",
    "\n",
    "for pos in vents_input:\n",
    "    if pos['x1'] == pos['x2']:\n",
    "        for y in range(min(pos['y1'],pos['y2']),max(pos['y1'],pos['y2'])+1):\n",
    "            vents_map[pos['x1'],y]+=1\n",
    "    elif pos['y1'] == pos['y2']:\n",
    "        for x in range(min(pos['x1'],pos['x2']),max(pos['x1'],pos['x2'])+1):\n",
    "            vents_map[x,pos['y2']]=vents_map[x,pos['y2']]+1\n",
    "    elif abs(pos['x1']-pos['x2']) == abs(pos['y1']-pos['y2']):\n",
    "        # positive diagonals\n",
    "        if pos['x2']>pos['x1'] and pos['y2']>pos['y1']:\n",
    "            y = pos['y1']\n",
    "            for x in range(pos['x1'], pos['x2']+1):\n",
    "                vents_map[x,y]+=1\n",
    "                y+=1\n",
    "        elif pos['x2']<pos['x1'] and pos['y2']<pos['y1']:\n",
    "            y = pos['y2']\n",
    "            for x in range(pos['x2'], pos['x1']+1):\n",
    "                vents_map[x,y]+=1\n",
    "                y+=1\n",
    "        # negative diagonals\n",
    "        elif pos['x2']>pos['x1'] and pos['y2']<pos['y1']:\n",
    "            y = pos['y1']\n",
    "            for x in range(pos['x1'], pos['x2']+1):\n",
    "                vents_map[x,y]+=1\n",
    "                y-=1\n",
    "        elif pos['x2']<pos['x1'] and pos['y2']>pos['y1']:\n",
    "            y = pos['y2']\n",
    "            for x in range(pos['x2'], pos['x1']+1):\n",
    "                vents_map[x,y]+=1\n",
    "                y-=1\n",
    "values_over_1 = 0\n",
    "for pos in vents_map.values():\n",
    "    if(pos) > 1:\n",
    "        values_over_1 += 1\n",
    "\n",
    "print(values_over_1)\n",
    "# for i in range(0,10):\n",
    "#     for j in range(0,10):\n",
    "#         print(vents_map[j,i], end=\" \")\n",
    "#     print()\n",
    "\n"
   ]
  },
  {
   "cell_type": "code",
   "execution_count": null,
   "metadata": {},
   "outputs": [],
   "source": []
  }
 ],
 "metadata": {
  "interpreter": {
   "hash": "a08922b12148a69648b155ec14b04d3137da47d0fef5f71ccbaf0e83dd079dfc"
  },
  "kernelspec": {
   "display_name": "Python 3.8.3 64-bit ('base': conda)",
   "name": "python3"
  },
  "language_info": {
   "codemirror_mode": {
    "name": "ipython",
    "version": 3
   },
   "file_extension": ".py",
   "mimetype": "text/x-python",
   "name": "python",
   "nbconvert_exporter": "python",
   "pygments_lexer": "ipython3",
   "version": "3.8.3"
  },
  "orig_nbformat": 4
 },
 "nbformat": 4,
 "nbformat_minor": 2
}
