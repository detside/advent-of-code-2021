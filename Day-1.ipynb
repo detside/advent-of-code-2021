{
 "cells": [
  {
   "cell_type": "code",
   "execution_count": 21,
   "metadata": {},
   "outputs": [],
   "source": [
    "file_name = 'Day-1.txt'\n",
    "depths_txt = open(file_name,\"r\")\n",
    "depths = []\n",
    "\n",
    "for line in depths_txt:\n",
    "    new_entry = line.strip()\n",
    "    depths.append(int(new_entry))\n",
    "\n",
    "depths_txt.close()\n"
   ]
  },
  {
   "cell_type": "code",
   "execution_count": 22,
   "metadata": {},
   "outputs": [
    {
     "name": "stdout",
     "output_type": "stream",
     "text": [
      "1527\n"
     ]
    }
   ],
   "source": [
    "#part 1\n",
    "increase_tally = 0\n",
    "for x in range(len(depths)-1):\n",
    "  if depths[x] < depths[x+1]:\n",
    "    increase_tally += 1\n",
    "print(increase_tally)"
   ]
  },
  {
   "cell_type": "code",
   "execution_count": 23,
   "metadata": {},
   "outputs": [
    {
     "name": "stdout",
     "output_type": "stream",
     "text": [
      "1575\n"
     ]
    }
   ],
   "source": [
    "#part 2\n",
    "increase_tally = 0\n",
    "for x in range(len(depths)-3):\n",
    "  if depths[x] + depths[x+1] + depths[x+2] < depths[x+1] + depths[x+2] + depths[x+3]:\n",
    "    increase_tally += 1\n",
    "print(increase_tally)"
   ]
  },
  {
   "cell_type": "code",
   "execution_count": null,
   "metadata": {},
   "outputs": [],
   "source": []
  }
 ],
 "metadata": {
  "interpreter": {
   "hash": "a08922b12148a69648b155ec14b04d3137da47d0fef5f71ccbaf0e83dd079dfc"
  },
  "kernelspec": {
   "display_name": "Python 3.8.3 64-bit ('base': conda)",
   "name": "python3"
  },
  "language_info": {
   "codemirror_mode": {
    "name": "ipython",
    "version": 3
   },
   "file_extension": ".py",
   "mimetype": "text/x-python",
   "name": "python",
   "nbconvert_exporter": "python",
   "pygments_lexer": "ipython3",
   "version": "3.8.3"
  },
  "orig_nbformat": 4
 },
 "nbformat": 4,
 "nbformat_minor": 2
}
