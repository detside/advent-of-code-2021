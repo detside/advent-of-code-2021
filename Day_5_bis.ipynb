{
 "cells": [
  {
   "cell_type": "code",
   "execution_count": null,
   "metadata": {},
   "outputs": [],
   "source": [
    "file_name = 'Day-5.txt'\n",
    "vents_file = open(file_name,\"r\")\n",
    "vents_input = []\n",
    "for line in vents_file:\n",
    "    new_entry = line.strip()\n",
    "    # print(new_entry)\n",
    "    temp_vents_positions = {}\n",
    "    current_position = new_entry.split(\" -> \")\n",
    "    temp_vents_positions[\"x1\"] = current_position[0].split(\",\")[0]\n",
    "    temp_vents_positions[\"y1\"] = current_position[0].split(\",\")[1]\n",
    "    temp_vents_positions[\"x2\"] = current_position[1].split(\",\")[0]\n",
    "    temp_vents_positions[\"y2\"] = current_position[1].split(\",\")[1]\n",
    "    vents_input.append(temp_vents_positions)\n",
    "vents_file.close()\n",
    "\n",
    "print(vents_input[0])\n",
    "\n",
    "# part 1\n",
    "map_size = max(vents_input.values)\n",
    "print(map_size)\n",
    "\n",
    "vents_map = [[0] * map_size]*map_size\n",
    "\n",
    "for pos in vents_input:\n",
    "    if pos['x1'] == pos['x2'] or pos['y1'] == pos['y2']:\n",
    "        print('to be counted')"
   ]
  }
 ],
 "metadata": {
  "language_info": {
   "name": "python"
  },
  "orig_nbformat": 4
 },
 "nbformat": 4,
 "nbformat_minor": 2
}
