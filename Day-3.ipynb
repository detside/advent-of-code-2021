{
 "cells": [
  {
   "cell_type": "code",
   "execution_count": 58,
   "metadata": {},
   "outputs": [],
   "source": [
    "file_name = 'Day-3.txt'\n",
    "diagnostics_report = open(file_name,\"r\")\n",
    "diagnostics = []\n",
    "\n",
    "for line in diagnostics_report:\n",
    "    new_entry = line.strip()\n",
    "    diagnostics.append(new_entry)\n",
    "\n",
    "diagnostics_report.close()\n",
    "#print(diagnostics)"
   ]
  },
  {
   "cell_type": "code",
   "execution_count": 61,
   "metadata": {},
   "outputs": [
    {
     "name": "stdout",
     "output_type": "stream",
     "text": [
      "2583164\n"
     ]
    }
   ],
   "source": [
    "#part 1 \n",
    "gamma = \"\"\n",
    "epsilon = \"\"\n",
    "\n",
    "\n",
    "\n",
    "for y in range(len(diagnostics[0])):\n",
    "  count_bits = {\"zeroes\":0, \"ones\":0}\n",
    "  for x in diagnostics:\n",
    "    if x[y] == \"0\":\n",
    "      count_bits[\"zeroes\"] += 1\n",
    "    else:\n",
    "      count_bits[\"ones\"] += 1\n",
    "  if (count_bits[\"zeroes\"] > count_bits[\"ones\"]):\n",
    "    gamma+=\"0\"\n",
    "    epsilon+=\"1\"\n",
    "  else:\n",
    "    gamma+=\"1\"\n",
    "    epsilon+=\"0\"\n",
    "\n",
    "# gamma = int(gamma)\n",
    "# epsilon = int(epsilon)\n",
    "\n",
    "print(int(gamma,2)*int(epsilon,2))"
   ]
  },
  {
   "cell_type": "code",
   "execution_count": 60,
   "metadata": {},
   "outputs": [
    {
     "name": "stdout",
     "output_type": "stream",
     "text": [
      "2784375\n"
     ]
    }
   ],
   "source": [
    "#part 2\n",
    "\n",
    "o2 = \"\"\n",
    "co2 = \"\"\n",
    "\n",
    "o2_numbers = diagnostics\n",
    "co2_numbers = diagnostics\n",
    "\n",
    "for y in range(len(o2_numbers[0])):\n",
    "  if (len(o2_numbers)==1): \n",
    "    break\n",
    "  count_bits = {\"zeroes\":0, \"ones\":0}\n",
    "  zero_numbers = []\n",
    "  one_numbers = []\n",
    "  for x in o2_numbers:\n",
    "    if x[y] == \"0\":\n",
    "      count_bits[\"zeroes\"] += 1\n",
    "      zero_numbers.append(x)\n",
    "    else:\n",
    "      count_bits[\"ones\"] += 1\n",
    "      one_numbers.append(x)\n",
    "  if (count_bits[\"zeroes\"] > count_bits[\"ones\"]):\n",
    "    o2_numbers = zero_numbers\n",
    "  else:\n",
    "    o2_numbers = one_numbers\n",
    "\n",
    "\n",
    "o2 = o2_numbers[0]\n",
    "\n",
    "for y in range(len(co2_numbers[0])):\n",
    "  if (len(co2_numbers)==1): \n",
    "    break\n",
    "  count_bits = {\"zeroes\":0, \"ones\":0}\n",
    "  zero_numbers = []\n",
    "  one_numbers = []\n",
    "  for x in co2_numbers:\n",
    "    if x[y] == \"0\":\n",
    "      count_bits[\"zeroes\"] += 1\n",
    "      zero_numbers.append(x)\n",
    "    else:\n",
    "      count_bits[\"ones\"] += 1\n",
    "      one_numbers.append(x)\n",
    "  if (count_bits[\"zeroes\"] > count_bits[\"ones\"]):\n",
    "    co2_numbers = one_numbers\n",
    "  else:\n",
    "    co2_numbers = zero_numbers\n",
    "\n",
    "co2 = co2_numbers[0]\n",
    "\n",
    "\n",
    "print(int(o2,2)*int(co2,2))\n",
    "\n",
    "\n",
    "#print(int(o2,2)*int(co2,2))"
   ]
  },
  {
   "cell_type": "code",
   "execution_count": null,
   "metadata": {},
   "outputs": [],
   "source": []
  }
 ],
 "metadata": {
  "interpreter": {
   "hash": "a08922b12148a69648b155ec14b04d3137da47d0fef5f71ccbaf0e83dd079dfc"
  },
  "kernelspec": {
   "display_name": "Python 3.8.3 64-bit ('base': conda)",
   "name": "python3"
  },
  "language_info": {
   "codemirror_mode": {
    "name": "ipython",
    "version": 3
   },
   "file_extension": ".py",
   "mimetype": "text/x-python",
   "name": "python",
   "nbconvert_exporter": "python",
   "pygments_lexer": "ipython3",
   "version": "3.8.3"
  },
  "orig_nbformat": 4
 },
 "nbformat": 4,
 "nbformat_minor": 2
}
