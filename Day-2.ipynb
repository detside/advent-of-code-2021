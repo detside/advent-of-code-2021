{
 "cells": [
  {
   "cell_type": "code",
   "execution_count": 34,
   "metadata": {},
   "outputs": [
    {
     "name": "stdout",
     "output_type": "stream",
     "text": [
      "1000\n"
     ]
    }
   ],
   "source": [
    "file_name = 'Day-2.txt'\n",
    "directions_txt = open(file_name,\"r\")\n",
    "directions = []\n",
    "\n",
    "for line in directions_txt:\n",
    "    new_entry = line.strip()\n",
    "    directions.append(new_entry)\n",
    "\n",
    "directions_txt.close()\n",
    "print(len(directions))"
   ]
  },
  {
   "cell_type": "code",
   "execution_count": 28,
   "metadata": {},
   "outputs": [
    {
     "name": "stdout",
     "output_type": "stream",
     "text": [
      "1989014\n"
     ]
    }
   ],
   "source": [
    "#part 1\n",
    "position = {\"horizontal\":0,\"vertical\":0,\"aim\":0}\n",
    "for x in range(len(directions)):\n",
    "  instruction = directions[x].split()\n",
    "  if instruction[0] == \"forward\":\n",
    "    position[\"horizontal\"] += int(instruction[1])\n",
    "  elif instruction[0] == \"up\":\n",
    "    position[\"vertical\"] -= int(instruction[1])\n",
    "  elif instruction[0] == \"down\":\n",
    "    position[\"vertical\"] += int(instruction[1])\n",
    "\n",
    "print(position[\"horizontal\"]*position[\"vertical\"])"
   ]
  },
  {
   "cell_type": "code",
   "execution_count": 35,
   "metadata": {},
   "outputs": [
    {
     "name": "stdout",
     "output_type": "stream",
     "text": [
      "2006917119\n"
     ]
    }
   ],
   "source": [
    "#part 2\n",
    "position = {\"horizontal\":0,\"vertical\":0,\"aim\":0}\n",
    "for x in range(len(directions)):\n",
    "  instruction = directions[x].split()\n",
    "  if instruction[0] == \"forward\":\n",
    "    position[\"horizontal\"] += int(instruction[1])\n",
    "    position[\"vertical\"] += int(instruction[1])*position[\"aim\"]\n",
    "  elif instruction[0] == \"up\":\n",
    "    position[\"aim\"] -= int(instruction[1])\n",
    "  elif instruction[0] == \"down\":\n",
    "    position[\"aim\"] += int(instruction[1])\n",
    "\n",
    "print(position[\"horizontal\"]*position[\"vertical\"])"
   ]
  },
  {
   "cell_type": "code",
   "execution_count": null,
   "metadata": {},
   "outputs": [],
   "source": []
  }
 ],
 "metadata": {
  "interpreter": {
   "hash": "a08922b12148a69648b155ec14b04d3137da47d0fef5f71ccbaf0e83dd079dfc"
  },
  "kernelspec": {
   "display_name": "Python 3.8.3 64-bit ('base': conda)",
   "name": "python3"
  },
  "language_info": {
   "codemirror_mode": {
    "name": "ipython",
    "version": 3
   },
   "file_extension": ".py",
   "mimetype": "text/x-python",
   "name": "python",
   "nbconvert_exporter": "python",
   "pygments_lexer": "ipython3",
   "version": "3.8.3"
  },
  "orig_nbformat": 4
 },
 "nbformat": 4,
 "nbformat_minor": 2
}
