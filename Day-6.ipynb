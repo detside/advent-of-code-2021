{
 "cells": [
  {
   "cell_type": "code",
   "execution_count": 16,
   "metadata": {},
   "outputs": [
    {
     "name": "stdout",
     "output_type": "stream",
     "text": [
      "<class 'str'>\n",
      "[1, 2, 1, 3, 2, 1, 1, 5, 1, 4, 1, 2, 1, 4, 3, 3, 5, 1, 1, 3, 5, 3, 4, 5, 5, 4, 3, 1, 1, 4, 3, 1, 5, 2, 5, 2, 4, 1, 1, 1, 1, 1, 1, 1, 4, 1, 4, 4, 4, 1, 4, 4, 1, 4, 2, 1, 1, 1, 1, 3, 5, 4, 3, 3, 5, 4, 1, 3, 1, 1, 2, 1, 1, 1, 4, 1, 2, 5, 2, 3, 1, 1, 1, 2, 1, 5, 1, 1, 1, 4, 4, 4, 1, 5, 1, 2, 3, 2, 2, 2, 1, 1, 4, 3, 1, 4, 4, 2, 1, 1, 5, 1, 1, 1, 3, 1, 2, 1, 1, 1, 1, 4, 5, 5, 2, 3, 4, 2, 1, 1, 1, 2, 1, 1, 5, 5, 3, 5, 4, 3, 1, 3, 1, 1, 5, 1, 1, 4, 2, 1, 3, 1, 1, 4, 3, 1, 5, 1, 1, 3, 4, 2, 2, 1, 1, 2, 1, 1, 2, 1, 3, 2, 3, 1, 4, 5, 1, 1, 4, 3, 3, 1, 1, 2, 2, 1, 5, 2, 1, 3, 4, 5, 4, 5, 5, 4, 3, 1, 5, 1, 1, 1, 4, 4, 3, 2, 5, 2, 1, 4, 3, 5, 1, 3, 5, 1, 3, 3, 1, 1, 1, 2, 5, 3, 1, 1, 3, 1, 1, 1, 2, 1, 5, 1, 5, 1, 3, 1, 1, 5, 4, 3, 3, 2, 2, 1, 1, 3, 4, 1, 1, 1, 1, 4, 1, 3, 1, 5, 1, 1, 3, 1, 1, 1, 1, 2, 2, 4, 4, 4, 1, 2, 5, 5, 2, 2, 4, 1, 1, 4, 2, 1, 1, 5, 1, 5, 3, 5, 4, 5, 3, 1, 1, 1, 2, 3, 1, 2, 1, 1]\n",
      "1653559299811\n"
     ]
    }
   ],
   "source": [
    "file_name = 'Day-6.txt'\n",
    "lanternfish_mating_input = open(file_name,\"r\")\n",
    "lanternfish_mating_list = []\n",
    "for line in lanternfish_mating_input:\n",
    "    new_entry = line.strip()\n",
    "    print(type(new_entry))\n",
    "    temp = new_entry.split(\",\")\n",
    "    for i in temp:\n",
    "        lanternfish_mating_list.append(int(i))\n",
    "lanternfish_mating_input.close()\n",
    "\n",
    "print(lanternfish_mating_list)\n",
    "\n",
    "# part 1\n",
    "# number_of_days = 1\n",
    "# new_lanternfish = []\n",
    "# while number_of_days > 0:\n",
    "#     for i, lanternfish in enumerate(lanternfish_mating_list):\n",
    "#         if lanternfish == 0:\n",
    "#             new_lanternfish.append(8)\n",
    "#             lanternfish_mating_list[i] = 6\n",
    "\n",
    "#         else: \n",
    "#             lanternfish_mating_list[i] -= 1\n",
    "#     if(new_lanternfish):\n",
    "#         lanternfish_mating_list+=new_lanternfish\n",
    "#     number_of_days -= 1\n",
    "#     new_lanternfish = []\n",
    "\n",
    "# print(len(lanternfish_mating_list))\n",
    "\n",
    "# part 1&2\n",
    "number_of_days = 256\n",
    "lanternfish = {0:0,1:0,2:0,3:0,4:0,5:0,6:0,7:0,8:0}\n",
    "for i in lanternfish_mating_list:\n",
    "    lanternfish[i] += 1\n",
    "\n",
    "new_lanternfish = 0\n",
    "while number_of_days > 0:\n",
    "    \n",
    "    new_lanternfish = lanternfish[0]\n",
    "    lanternfish[0] = lanternfish[1]\n",
    "    lanternfish[1] = lanternfish[2]\n",
    "    lanternfish[2] = lanternfish[3]\n",
    "    lanternfish[3] = lanternfish[4]\n",
    "    lanternfish[4] = lanternfish[5]\n",
    "    lanternfish[5] = lanternfish[6] \n",
    "    lanternfish[6] = lanternfish[7] + new_lanternfish\n",
    "    lanternfish[7] = lanternfish[8]\n",
    "    lanternfish[8] = new_lanternfish\n",
    "\n",
    "    number_of_days -= 1\n",
    "\n",
    "\n",
    "print(sum(lanternfish.values()))"
   ]
  },
  {
   "cell_type": "code",
   "execution_count": null,
   "metadata": {},
   "outputs": [],
   "source": []
  }
 ],
 "metadata": {
  "interpreter": {
   "hash": "a08922b12148a69648b155ec14b04d3137da47d0fef5f71ccbaf0e83dd079dfc"
  },
  "kernelspec": {
   "display_name": "Python 3.8.3 64-bit ('base': conda)",
   "name": "python3"
  },
  "language_info": {
   "codemirror_mode": {
    "name": "ipython",
    "version": 3
   },
   "file_extension": ".py",
   "mimetype": "text/x-python",
   "name": "python",
   "nbconvert_exporter": "python",
   "pygments_lexer": "ipython3",
   "version": "3.8.3"
  },
  "orig_nbformat": 4
 },
 "nbformat": 4,
 "nbformat_minor": 2
}
