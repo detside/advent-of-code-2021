{
 "cells": [
  {
   "cell_type": "code",
   "execution_count": 20,
   "metadata": {},
   "outputs": [
    {
     "name": "stdout",
     "output_type": "stream",
     "text": [
      "Part 1 = 323647\n",
      "Part 2 = 87640209\n"
     ]
    }
   ],
   "source": [
    "# process input\n",
    "file_name = \"Day-7.txt\"\n",
    "crab_position_file = open(file_name,\"r\")\n",
    "crab_initial_positions = []\n",
    "for line in crab_position_file:\n",
    "  new_entry = line.strip()\n",
    "  temp_list = new_entry.split(',')\n",
    "  for i, position in enumerate(temp_list):\n",
    "    crab_initial_positions.append(int(position))\n",
    "crab_position_file.close()\n",
    "\n",
    "# part 1\n",
    "fuel_consumed = []\n",
    "\n",
    "def check_fuel_consumption(current_positions, target_position):\n",
    "  fuel_consumed = 0\n",
    "  for position in current_positions:\n",
    "    fuel_consumed+=abs(position-target_position)\n",
    "  return fuel_consumed\n",
    "\n",
    "for position in range(min(crab_initial_positions),max(crab_initial_positions)+1):\n",
    "  fuel_consumed.append(check_fuel_consumption(crab_initial_positions,position))\n",
    "print(\"Part 1 =\",min(fuel_consumed))\n",
    "\n",
    "# part 2\n",
    "fuel_consumed = []\n",
    "\n",
    "def check_fuel_consumption(current_positions, target_position):\n",
    "  fuel_consumed = 0\n",
    "  for position in current_positions:\n",
    "    for step in range(0,abs(position-target_position)):\n",
    "      fuel_consumed+=step+1\n",
    "  return fuel_consumed\n",
    "\n",
    "for position in range(min(crab_initial_positions),max(crab_initial_positions)+1):\n",
    "  fuel_consumed.append(check_fuel_consumption(crab_initial_positions,position))\n",
    "print(\"Part 2 =\",min(fuel_consumed))"
   ]
  },
  {
   "cell_type": "code",
   "execution_count": null,
   "metadata": {},
   "outputs": [],
   "source": []
  }
 ],
 "metadata": {
  "interpreter": {
   "hash": "a08922b12148a69648b155ec14b04d3137da47d0fef5f71ccbaf0e83dd079dfc"
  },
  "kernelspec": {
   "display_name": "Python 3.8.3 64-bit ('base': conda)",
   "language": "python",
   "name": "python3"
  },
  "language_info": {
   "codemirror_mode": {
    "name": "ipython",
    "version": 3
   },
   "file_extension": ".py",
   "mimetype": "text/x-python",
   "name": "python",
   "nbconvert_exporter": "python",
   "pygments_lexer": "ipython3",
   "version": "3.8.3"
  },
  "orig_nbformat": 4
 },
 "nbformat": 4,
 "nbformat_minor": 2
}
